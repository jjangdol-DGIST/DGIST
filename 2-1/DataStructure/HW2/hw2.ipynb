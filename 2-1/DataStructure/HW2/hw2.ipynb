{
 "cells": [
  {
   "cell_type": "code",
   "execution_count": 63,
   "id": "68e22ff7-35b9-4d83-a58e-74ac09cf7aa7",
   "metadata": {
    "tags": []
   },
   "outputs": [],
   "source": [
    "from linked_tree import LinkedTree"
   ]
  },
  {
   "cell_type": "markdown",
   "id": "10df91d1-e572-4b2f-b76b-75c586f205a3",
   "metadata": {
    "tags": []
   },
   "source": [
    "# HW 2-1. Complete the linked tree implementation. (5p)\n",
    "\n",
    "In the `linked_tree.py`, complete these methods:\n",
    " - `_add_root(self, e)`\n",
    " - `_add_child(self, p, e)`\n",
    " - `_replace(self, p, e)` \n",
    " - `_delete(self, p)`\n",
    " \n",
    "Look at the comments for each method to how each method should work."
   ]
  },
  {
   "cell_type": "code",
   "execution_count": 64,
   "id": "33531e83-284f-416d-96e4-718e6e2ae22d",
   "metadata": {
    "tags": []
   },
   "outputs": [
    {
     "name": "stdout",
     "output_type": "stream",
     "text": [
      "Test case 1: Add root\n",
      "Root: A\n",
      "\n",
      "Test case 2: Add children\n",
      "Children of A: ['B', 'C', 'D']\n",
      "\n",
      "Test case 3: Replace element\n",
      "New element at B's position: B_new\n",
      "Now Children of A: ['B_new', 'C', 'D']\n"
     ]
    }
   ],
   "source": [
    "# Example test cases to verify your implementation\n",
    "T = LinkedTree()\n",
    "\n",
    "# Test case 1: Test _add_root functionality\n",
    "print(\"Test case 1: Add root\")\n",
    "root = T._add_root('A')\n",
    "print(f\"Root: {root.element()}\")  # Output: Root: A\n",
    "\n",
    "# Test case 2: Test _add_child functionality\n",
    "print(\"\\nTest case 2: Add children\")\n",
    "b = T._add_child(root, 'B')\n",
    "c = T._add_child(root, 'C')\n",
    "d = T._add_child(root, 'D')\n",
    "\n",
    "# Output: Children of A: ['B', 'C', 'D']\n",
    "print(f\"Children of A: {[child.element() for child in T.children(root)]}\")\n",
    "\n",
    "# Test case 3: Test _replace functionality\n",
    "print(\"\\nTest case 3: Replace element\")\n",
    "T._replace(b, 'B_new')\n",
    "print(f\"New element at B's position: {b.element()}\")  # Output: New element at B's position: B_new\n",
    "print(f\"Now Children of A: {[child.element() for child in T.children(root)]}\")\n",
    "\n",
    "# Test case 1: Add root\n",
    "# Root: A\n",
    "\n",
    "# Test case 2: Add children\n",
    "# Children of A: ['B', 'C', 'D']\n",
    "\n",
    "# Test case 3: Replace element\n",
    "# New element at B's position: B_new\n",
    "# Now Children of A: ['B_new', 'C', 'D']\n",
    "## Checked"
   ]
  },
  {
   "cell_type": "markdown",
   "id": "dd737b6b-92c0-415f-be74-5c2bee0b207f",
   "metadata": {
    "tags": []
   },
   "source": [
    "# HW 2-2. Level-order traversal of a tree (5p)\n",
    "\n",
    "You will implement a level-order traversal of a tree. Your goal is to create a function that, given a tree, visits each node in the order corresponding to their level in the tree, from left to right.\n",
    "\n",
    "## Background\n",
    "Level-order traversal, also known as breadth-first traversal, is a tree traversal method where nodes are visited level by level, moving from left to right at each level. This traversal method can be useful when you need to process nodes in a specific order or when you want to find the shortest path to a specific node in the tree.\n",
    "\n",
    "## Instructions\n",
    "- Implement a method called levelorder() in the Tree class that generates a level-order iteration of positions in the tree. The running time of this level-order traversal should be O(n), where *n* is the number of items in the tree.\n",
    "\n",
    "\n",
    "Hints:\n",
    "Consider using a queue as a substructure. Start by enqueuing the root of the tree.\n",
    "\n",
    "For a tree with the following structure:\n",
    "```mathematica\n",
    "    A\n",
    "   /|\\\n",
    "  B C D\n",
    " /|   |\\\n",
    "E F   G H\n",
    "```\n",
    "\n",
    "Your level_order_traversal function should return the following list: ['A', 'B', 'C', 'D', 'E', 'F', 'G', 'H'].\n"
   ]
  },
  {
   "cell_type": "code",
   "execution_count": 65,
   "id": "8bd60231-5aeb-4280-b5a4-4458a3aa2bb0",
   "metadata": {
    "tags": []
   },
   "outputs": [],
   "source": [
    "T = LinkedTree()"
   ]
  },
  {
   "cell_type": "code",
   "execution_count": 66,
   "id": "6f7a14dc-f3ef-4bc8-a340-fe859581d44d",
   "metadata": {
    "tags": []
   },
   "outputs": [
    {
     "data": {
      "text/plain": [
       "<linked_tree.LinkedTree.Position at 0x7fba76275c90>"
      ]
     },
     "execution_count": 66,
     "metadata": {},
     "output_type": "execute_result"
    }
   ],
   "source": [
    "# Example tree construction\n",
    "\n",
    "root = T._add_root('A')\n",
    "b = T._add_child(root, 'B')\n",
    "c = T._add_child(root, 'C')\n",
    "d = T._add_child(root, 'D')\n",
    "\n",
    "T._add_child(b, 'B1')\n",
    "T._add_child(b, 'B2')\n",
    "\n",
    "c1 = T._add_child(c, 'C1')\n",
    "\n",
    "T._add_child(d, 'D1')\n",
    "T._add_child(d, 'D2')\n",
    "T._add_child(d, 'D3')\n",
    "\n",
    "T._add_child(c1, \"C11\")\n",
    "T._add_child(c1, \"C12\")\n",
    "T._add_child(c1, \"C13\")"
   ]
  },
  {
   "cell_type": "code",
   "execution_count": 67,
   "id": "a70899e8-5737-4771-ab70-1312367883c7",
   "metadata": {
    "tags": []
   },
   "outputs": [
    {
     "name": "stdout",
     "output_type": "stream",
     "text": [
      "A\n",
      "B\n",
      "C\n",
      "D\n",
      "B1\n",
      "B2\n",
      "C1\n",
      "D1\n",
      "D2\n",
      "D3\n",
      "C11\n",
      "C12\n",
      "C13\n"
     ]
    }
   ],
   "source": [
    "for node in T.levelorder():\n",
    "    print(node.element())\n",
    "# A\n",
    "# B\n",
    "# C\n",
    "# D\n",
    "# B1\n",
    "# B2\n",
    "# C1\n",
    "# D1\n",
    "# D2\n",
    "# D3\n",
    "# C11\n",
    "# C12\n",
    "# C13\n",
    "## Checked"
   ]
  },
  {
   "cell_type": "code",
   "execution_count": 68,
   "id": "35ae6b1f-810f-4efc-b0ca-936be71c97b8",
   "metadata": {
    "tags": []
   },
   "outputs": [
    {
     "name": "stdout",
     "output_type": "stream",
     "text": [
      "A\n",
      "B\n",
      "B1\n",
      "B2\n",
      "C\n",
      "C1\n",
      "C11\n",
      "C12\n",
      "C13\n",
      "D\n",
      "D1\n",
      "D2\n",
      "D3\n"
     ]
    }
   ],
   "source": [
    "# this block is not related to the homework. just for your fun\n",
    "for node in T.preorder():\n",
    "    print(node.element())\n",
    "# A\n",
    "# B\n",
    "# B1\n",
    "# B2\n",
    "# C\n",
    "# C1\n",
    "# C11\n",
    "# C12\n",
    "# C13\n",
    "# D\n",
    "# D1\n",
    "# D2\n",
    "# D3"
   ]
  },
  {
   "cell_type": "code",
   "execution_count": 69,
   "id": "6e6ab8e6-1ce8-47b2-a7b0-c79e8db81f97",
   "metadata": {
    "tags": []
   },
   "outputs": [
    {
     "name": "stdout",
     "output_type": "stream",
     "text": [
      "B1\n",
      "B2\n",
      "B\n",
      "C11\n",
      "C12\n",
      "C13\n",
      "C1\n",
      "C\n",
      "D1\n",
      "D2\n",
      "D3\n",
      "D\n",
      "A\n"
     ]
    }
   ],
   "source": [
    "# this block is not related to the homework. just for your fun\n",
    "for node in T.postorder():\n",
    "    print(node.element())\n",
    "# B1\n",
    "# B2\n",
    "# B\n",
    "# C11\n",
    "# C12\n",
    "# C13\n",
    "# C1\n",
    "# C\n",
    "# D1\n",
    "# D2\n",
    "# D3\n",
    "# D\n",
    "# A"
   ]
  },
  {
   "cell_type": "markdown",
   "id": "9c47c2a9-0718-4c8b-9fc9-d73af224e55a",
   "metadata": {},
   "source": [
    "# HW 2-3. Commenting (5p)\n",
    "\n",
    "Commenting your code is an essential part of good programming practices. Well-documented code is easier to understand, maintain, and debug. It allows you, your teammates, and future developers to quickly grasp the purpose, functionality, and behavior of your code. Comments help ensure that your code remains usable and maintainable, even as the project evolves or new developers join the team.\n",
    "\n",
    "In this homework, you are expected to provide detailed comments for all methods in tree.py and linked_tree.py. This exercise will help you to develop good commenting habits and improve your ability to communicate the purpose and functionality of your code to others.\n",
    "\n",
    "## Instructions\n",
    "1. For each method in the tree.py and linked_tree.py files, add a comment block and inline comments, as necessary, to clearly explain the purpose, functionality, input parameters, and return values of the method.\n",
    "2. Ensure that your comments are concise, clear, and easy to understand.\n",
    "3. The level of detail in your comments should be similar to the example provided below.\n",
    "\n",
    "```python\n",
    "\"\"\"\n",
    "Initialize a new node object with the given element, parent, and children.\n",
    "\n",
    ":param element: The element to be stored in the node\n",
    ":param parent: A reference to the parent node (default: None)\n",
    ":param children: A list of references to the children nodes (default: None)\n",
    "\"\"\"\n",
    "def __init__(self, element, parent=None, children=None):\n",
    "    self._element = element  # The element of this node\n",
    "    self._parent = parent  # A reference to the parent node\n",
    "\n",
    "    # If 'children' is None, initialize an empty list for children nodes;\n",
    "    # otherwise, use the provided list of children nodes\n",
    "    if children is None:\n",
    "        self._children = []\n",
    "    else:\n",
    "        self._children = children  # List of references to children nodes\n",
    "\n",
    "```"
   ]
  },
  {
   "cell_type": "markdown",
   "id": "bf8fcd51-56a6-408a-9266-3c4fa9966ad7",
   "metadata": {
    "tags": []
   },
   "source": [
    "# HW 2-4. Test cases (max 5p, 1p per your own test)\n",
    "\n",
    "In this notebook file, write your own test cases to test your implementation with various tree structures and various examples to ensure its correctness.\n",
    "\n",
    "(you can add more if you want)"
   ]
  },
  {
   "cell_type": "code",
   "execution_count": 70,
   "id": "01ef3e70-f7b9-4cb0-8688-83241ada4ba3",
   "metadata": {
    "tags": []
   },
   "outputs": [
    {
     "name": "stdout",
     "output_type": "stream",
     "text": [
      "Test 1: Non-binary tree\n",
      "1 2 3 4 5 6 7 8 \n",
      "\n"
     ]
    }
   ],
   "source": [
    "# Test 1\n",
    "T = LinkedTree()\n",
    "\n",
    "# Write your test case setup and results\n",
    "# 테스트의 목적: Test the level-order traversal on a non-binary tree\n",
    "# 테스트에서 기대되는 결과값: 1 2 3 4 5 6 7 8\n",
    "root = T._add_root(1)\n",
    "child1 = T._add_child(root, 2)\n",
    "child2 = T._add_child(root, 3)\n",
    "child3 = T._add_child(root, 4)\n",
    "T._add_child(child1, 5)\n",
    "T._add_child(child1, 6)\n",
    "T._add_child(child2, 7)\n",
    "T._add_child(child3, 8)\n",
    "\n",
    "print(\"Test 1: Non-binary tree\")\n",
    "for position in T.levelorder():\n",
    "    print(position.element(), end=' ')\n",
    "print(\"\\n\")"
   ]
  },
  {
   "cell_type": "code",
   "execution_count": 71,
   "id": "8998bc0c-1cc4-4f65-a78b-ee5b8e641cc8",
   "metadata": {},
   "outputs": [
    {
     "name": "stdout",
     "output_type": "stream",
     "text": [
      "Test 2: Binary tree\n",
      "1 2 3 4 5 6 7 \n",
      "\n"
     ]
    }
   ],
   "source": [
    "# Test 2\n",
    "T = LinkedTree()\n",
    "\n",
    "# Write your test case setup and results\n",
    "# 테스트의 목적: Test the level-order traversal on a binary tree\n",
    "# 테스트에서 기대되는 결과값: 1 2 3 4 5 6 7\n",
    "root = T._add_root(1)\n",
    "child1 = T._add_child(root, 2)\n",
    "child2 = T._add_child(root, 3)\n",
    "T._add_child(child1, 4)\n",
    "T._add_child(child1, 5)\n",
    "T._add_child(child2, 6)\n",
    "T._add_child(child2, 7)\n",
    "\n",
    "print(\"Test 2: Binary tree\")\n",
    "for position in T.levelorder():\n",
    "    print(position.element(), end=' ')\n",
    "print(\"\\n\")\n"
   ]
  },
  {
   "cell_type": "code",
   "execution_count": 72,
   "id": "5bf0d2a5-1732-4043-ae7d-dd8268eedcd3",
   "metadata": {
    "tags": []
   },
   "outputs": [
    {
     "name": "stdout",
     "output_type": "stream",
     "text": [
      "Test 3: Single path tree (degenerate tree)\n",
      "1 2 3 4 5 \n",
      "\n"
     ]
    }
   ],
   "source": [
    "# Test 3\n",
    "T = LinkedTree()\n",
    "\n",
    "# Write your test case setup and results\n",
    "# 테스트의 목적: Test the level-order traversal on a tree with a single path (degenerate tree)\n",
    "# 테스트에서 기대되는 결과값: 1 2 3 4 5\n",
    "root = T._add_root(1)\n",
    "child1 = T._add_child(root, 2)\n",
    "child2 = T._add_child(child1, 3)\n",
    "child3 = T._add_child(child2, 4)\n",
    "T._add_child(child3, 5)\n",
    "\n",
    "print(\"Test 3: Single path tree (degenerate tree)\")\n",
    "for position in T.levelorder():\n",
    "    print(position.element(), end=' ')\n",
    "print(\"\\n\")\n"
   ]
  },
  {
   "cell_type": "code",
   "execution_count": 73,
   "id": "e9a761da-be43-49df-8b10-3186c87360a6",
   "metadata": {
    "tags": []
   },
   "outputs": [
    {
     "name": "stdout",
     "output_type": "stream",
     "text": [
      "Test 4: Empty tree\n",
      ", True\n"
     ]
    }
   ],
   "source": [
    "# Test 4\n",
    "T = LinkedTree()\n",
    "\n",
    "# Write your test case setup and results\n",
    "# 테스트의 목적: Test the level-order traversal on an empty tree\n",
    "# 테스트에서 기대되는 결과값: (blank), True\n",
    "\n",
    "print(\"Test 4: Empty tree\")\n",
    "for position in T.levelorder():\n",
    "    print(position.element(), end=' ')\n",
    "print(f', {T.is_empty()}')\n"
   ]
  },
  {
   "cell_type": "code",
   "execution_count": 74,
   "id": "1b4d5d26-b345-473e-af4f-7bbc3c8b60bd",
   "metadata": {
    "tags": []
   },
   "outputs": [
    {
     "name": "stdout",
     "output_type": "stream",
     "text": [
      "Test 5: Binary tree with multiple levels\n",
      "1 2 3 4 5 6 7 8 9 10 \n",
      "\n"
     ]
    }
   ],
   "source": [
    "# Test 5\n",
    "T = LinkedTree()\n",
    "\n",
    "# Write your test case setup and results\n",
    "# 테스트의 목적: Test the level-order traversal on a binary tree with multiple levels\n",
    "# 테스트에서 기대되는 결과값: 1 2 3 4 5 6 7 8 9 10\n",
    "root = T._add_root(1)\n",
    "child1 = T._add_child(root, 2)\n",
    "child2 = T._add_child(root, 3)\n",
    "child3 = T._add_child(child1, 4)\n",
    "child4 = T._add_child(child1, 5)\n",
    "T._add_child(child2, 6)\n",
    "T._add_child(child2, 7)\n",
    "T._add_child(child3, 8)\n",
    "T._add_child(child3, 9)\n",
    "T._add_child(child4, 10)\n",
    "\n",
    "print(\"Test 5: Binary tree with multiple levels\")\n",
    "for position in T.levelorder():\n",
    "    print(position.element(), end=' ')\n",
    "print(\"\\n\")"
   ]
  },
  {
   "cell_type": "markdown",
   "id": "ae4cf37d-c5fc-438a-943b-82b84249289b",
   "metadata": {},
   "source": [
    "# Submission\n",
    "\n",
    "Submit three files: `linked_tree.py`, `tree.py`, and `hw2.ipynb`.\n",
    "\n",
    "- `linked_tree.py` should include the `_add_root`, `_add_child`, `_replace`, `_delete` methods, and your comments explaining all the methods.\n",
    "\n",
    "- `tree.py` should include the Tree class with the `levelorder()` method. Make sure to include comments explaining your code.\n",
    "\n",
    "- In this notebook file `hw2.ipynb`, write your own test cases to test your implementation with various tree structures and various examples to ensure its correctness. "
   ]
  }
 ],
 "metadata": {
  "kernelspec": {
   "display_name": "Python 3 (ipykernel)",
   "language": "python",
   "name": "python3"
  },
  "language_info": {
   "codemirror_mode": {
    "name": "ipython",
    "version": 3
   },
   "file_extension": ".py",
   "mimetype": "text/x-python",
   "name": "python",
   "nbconvert_exporter": "python",
   "pygments_lexer": "ipython3",
   "version": "3.10.6"
  }
 },
 "nbformat": 4,
 "nbformat_minor": 5
}
