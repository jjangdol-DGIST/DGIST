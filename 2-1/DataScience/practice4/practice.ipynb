{
 "cells": [
  {
   "cell_type": "code",
   "execution_count": null,
   "metadata": {},
   "outputs": [],
   "source": [
    "import pandas as pd\n",
    "import io, sys\n",
    "from io import StringIO\n",
    "\n",
    "col_names = 'ID,Antenna,RSSI,LQ,SNR,PWR,FHSS,PFD,NU'.split(',')\n",
    "check_str = ''\n",
    "processed_str = ''\n",
    "\n",
    "sys.stdout = io.TextIOWrapper(sys.stdout.buffer,encoding='utf8')\n",
    "\n",
    "i = 0\n",
    "for line in sys.stdin:\n",
    "    if i < 4:\n",
    "        check_str += line\n",
    "        i += 1\n",
    "        continue\n",
    "    line = line.strip()\n",
    "    line_values = line.split(',')\n",
    "    if len(line_values) == 9:\n",
    "        try:\n",
    "            line_values = list(map(int, line_values))\n",
    "            processed_str += line + '\\n'\n",
    "        except:\n",
    "            pass\n",
    "\n",
    "df = pd.read_csv(StringIO(processed_str), names = col_names, index_col='ID', header=None)\n",
    "\n",
    "temp = []\n",
    "for i in range(0, len(df) - 1):\n",
    "    if df.index[i] > df.index[i + 1]:\n",
    "        for j in range(2):\n",
    "            temp.append(df.index[i + j])\n",
    "temp_set = set(temp)\n",
    "remove_list = list(temp_set)\n",
    "df.drop(remove_list, inplace=True)\n",
    "\n",
    "############\n",
    "# your code start\n",
    "# df = df.query('Antenna == 0 or Antenna == 1')\n",
    "df = df[(df['Antenna'] == 0) & (df['Antenna'] == 1)]\n",
    "\n",
    "# df = df.query('0 <= LQ <= 100')\n",
    "df = df[(df['LQ'] >= 0) & (df['LQ'] <= 100)]\n",
    "\n",
    "# df = df.query('-130 <= RSSI <= 0')\n",
    "df = df[(df['RSSI'] >= -130) & (df['RSSI'] <= 0)]\n",
    "\n",
    "\n",
    "df = df.query('-30 <= SNR <= 30')\n",
    "df = df.query('PWR == 0')\n",
    "df = df.query('0 <= FHSS <= 79')\n",
    "# your code end\n",
    "############\n",
    "\n",
    "exec(check_str)\n",
    "check_data(df)"
   ]
  },
  {
   "cell_type": "code",
   "execution_count": null,
   "metadata": {},
   "outputs": [],
   "source": [
    "df = df[(df['LQ'] >= 0) & (df['LQ'] <= 100)]\n"
   ]
  }
 ],
 "metadata": {
  "kernelspec": {
   "display_name": "Python 3",
   "language": "python",
   "name": "python3"
  },
  "language_info": {
   "codemirror_mode": {
    "name": "ipython",
    "version": 3
   },
   "file_extension": ".py",
   "mimetype": "text/x-python",
   "name": "python",
   "nbconvert_exporter": "python",
   "pygments_lexer": "ipython3",
   "version": "3.10.6"
  },
  "orig_nbformat": 4
 },
 "nbformat": 4,
 "nbformat_minor": 2
}
