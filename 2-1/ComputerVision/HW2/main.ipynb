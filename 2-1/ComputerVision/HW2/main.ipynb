{
 "cells": [
  {
   "cell_type": "code",
   "execution_count": 41,
   "metadata": {},
   "outputs": [],
   "source": [
    "from functions import *\n",
    "import glob\n",
    "import os\n",
    "import numpy as np\n",
    "from matplotlib import pyplot as plt\n",
    "import re\n",
    "from PIL import Image, ImageOps"
   ]
  },
  {
   "cell_type": "code",
   "execution_count": 42,
   "metadata": {},
   "outputs": [],
   "source": [
    "### _main func\n",
    "### feature의 정도를 나타냄 높으면 귤, 낮으면 감\n",
    "def _main(path):\n",
    "    ## sharpening\n",
    "    laplacian_mask2 = [[1, 1, 1],[1,-8,1],[1,1,1]] \n",
    "\n",
    "    # main\n",
    "    im = Image.open(path)\n",
    "\n",
    "    im = im.resize((256, 256))\n",
    "\n",
    "    col, row = im.size\n",
    "\n",
    "    cimg3d = np.array(im)\n",
    "    gimg2d = np.full((row,col),0)\n",
    "\n",
    "    # 이미지를 흑백으로 변환\n",
    "    color3dtogray2d(cimg3d,gimg2d)    \n",
    "    \n",
    "    maskfiltering(gimg2d, laplacian_mask2) \n",
    "    \n",
    "    # 배열을 인덱싱 해서 일부 feature을 추출\n",
    "    gimg2d = gimg2d[175 : 200, 100 : 125]\n",
    "    \n",
    "    return np.count_nonzero(gimg2d > 30)"
   ]
  },
  {
   "cell_type": "code",
   "execution_count": 43,
   "metadata": {},
   "outputs": [
    {
     "ename": "SyntaxError",
     "evalue": "incomplete input (542760953.py, line 3)",
     "output_type": "error",
     "traceback": [
      "\u001b[0;36m  Cell \u001b[0;32mIn[43], line 3\u001b[0;36m\u001b[0m\n\u001b[0;31m    \u001b[0m\n\u001b[0m    ^\u001b[0m\n\u001b[0;31mSyntaxError\u001b[0m\u001b[0;31m:\u001b[0m incomplete input\n"
     ]
    }
   ],
   "source": [
    "def classifier(o_mean, p_mean, gim2d):\n",
    "    "
   ]
  },
  {
   "cell_type": "code",
   "execution_count": 44,
   "metadata": {},
   "outputs": [],
   "source": [
    "path = \"/home/dgist/2-1/ComputerVision/HW2/Project2_images\"\n",
    "file_list = sorted(glob.glob(os.path.join(path, \"*.png\")))\n",
    "# o1, o10, o11, o12, o13, ... , p9"
   ]
  },
  {
   "cell_type": "code",
   "execution_count": null,
   "metadata": {},
   "outputs": [],
   "source": [
    "o_dict = {}\n",
    "p_dict = {}\n",
    "pattern_o = r'o[0-9]*.png'\n",
    "# pattern_p = r'p'\n",
    "\n",
    "for _path in file_list:\n",
    "    name = _path[51:]\n",
    "    if re.search(pattern_o, name):\n",
    "        o_dict[name] = _path\n",
    "    else:\n",
    "        p_dict[name] = _path"
   ]
  },
  {
   "cell_type": "code",
   "execution_count": null,
   "metadata": {},
   "outputs": [],
   "source": [
    "o_result = []\n",
    "p_result = []\n",
    "for path in o_dict.values():\n",
    "    o_result.append(_main(path))\n",
    "for path in p_dict.values():\n",
    "    p_result.append(_main(path))"
   ]
  },
  {
   "cell_type": "code",
   "execution_count": null,
   "metadata": {},
   "outputs": [
    {
     "name": "stdout",
     "output_type": "stream",
     "text": [
      "[48, 67, 126, 43, 62, 11, 32, 34, 72, 62, 28, 66, 125, 23, 34]\n"
     ]
    },
    {
     "data": {
      "text/plain": [
       "55.53333333333333"
      ]
     },
     "execution_count": 39,
     "metadata": {},
     "output_type": "execute_result"
    }
   ],
   "source": [
    "o_mean = np.mean(o_result)\n",
    "p_mean = np.mean(p_result)"
   ]
  },
  {
   "cell_type": "code",
   "execution_count": null,
   "metadata": {},
   "outputs": [
    {
     "name": "stdout",
     "output_type": "stream",
     "text": [
      "[0, 0, 0, 0, 0, 6, 2, 0, 0, 0, 0, 4, 3, 0, 0]\n"
     ]
    },
    {
     "data": {
      "text/plain": [
       "1.0"
      ]
     },
     "execution_count": 40,
     "metadata": {},
     "output_type": "execute_result"
    }
   ],
   "source": [
    "_object = _main()"
   ]
  },
  {
   "cell_type": "code",
   "execution_count": null,
   "metadata": {},
   "outputs": [],
   "source": []
  }
 ],
 "metadata": {
  "kernelspec": {
   "display_name": "Python 3",
   "language": "python",
   "name": "python3"
  },
  "language_info": {
   "codemirror_mode": {
    "name": "ipython",
    "version": 3
   },
   "file_extension": ".py",
   "mimetype": "text/x-python",
   "name": "python",
   "nbconvert_exporter": "python",
   "pygments_lexer": "ipython3",
   "version": "3.10.6"
  },
  "orig_nbformat": 4
 },
 "nbformat": 4,
 "nbformat_minor": 2
}
