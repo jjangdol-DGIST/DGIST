{
 "cells": [
  {
   "cell_type": "markdown",
   "metadata": {},
   "source": [
    "### 실습 문제 2. NumPy만을 사용해서 mean filter를 제작하시오.\n",
    "NumPy 라이브러리와 파이썬 내장함수만을 사용해서 함수 'meanfilter'를 완성해 보세요.\n",
    "- 조건:\n",
    "    - 함수 입력값: image (type:ndarray)\n",
    "    - 함수 출력값(반환값): mean filter가 적용된 이미지의 ndarray"
   ]
  },
  {
   "cell_type": "code",
   "execution_count": 11,
   "metadata": {},
   "outputs": [],
   "source": [
    "from PIL import Image\n",
    "import numpy as np"
   ]
  },
  {
   "cell_type": "code",
   "execution_count": 12,
   "metadata": {},
   "outputs": [],
   "source": [
    "image = Image.open(\"sample_image_meanfilter.jpg\").convert('L')"
   ]
  },
  {
   "cell_type": "code",
   "execution_count": 13,
   "metadata": {},
   "outputs": [],
   "source": [
    "image_array = np.array(image)\n",
    "gray_arr = np.dot(image_array[...,:3], [0.2989, 0.5870, 0.1140])\n",
    "# gray_arr"
   ]
  },
  {
   "cell_type": "code",
   "execution_count": 14,
   "metadata": {},
   "outputs": [],
   "source": [
    "def meanfilter(image):\n",
    "    # 이미지가 1차원 배열인 경우 2차원 배열로 변환\n",
    "    if image.ndim == 1:\n",
    "        image = image.reshape(1, -1)\n",
    "\n",
    "    # 이미지 크기 가져오기\n",
    "    height, width = image.shape\n",
    "\n",
    "    # 필터 크기 설정\n",
    "    filter_size = 3\n",
    "\n",
    "    # 필터 마스크 생성\n",
    "    mask = np.ones((filter_size, filter_size)) / filter_size ** 2\n",
    "\n",
    "    # 이미지 패딩\n",
    "    pad_size = filter_size // 2\n",
    "    padded_image = np.pad(image, pad_size, mode='edge')\n",
    "\n",
    "    # 필터 적용\n",
    "    filtered_image = np.zeros_like(image)\n",
    "    for i in range(height):\n",
    "        for j in range(width):\n",
    "            # 현재 위치에서 필터 크기만큼의 영역 가져오기\n",
    "            window = padded_image[i:i+filter_size, j:j+filter_size]\n",
    "\n",
    "            # 필터 마스크와의 합성곱 계산\n",
    "            filtered_pixel = np.sum(window * mask)\n",
    "\n",
    "            # 결과 이미지에 할당\n",
    "            filtered_image[i, j] = filtered_pixel\n",
    "\n",
    "    return filtered_image"
   ]
  },
  {
   "cell_type": "code",
   "execution_count": 15,
   "metadata": {},
   "outputs": [],
   "source": [
    "output = meanfilter(gray_arr)"
   ]
  },
  {
   "cell_type": "code",
   "execution_count": 16,
   "metadata": {},
   "outputs": [],
   "source": [
    "output_image = Image.fromarray(output.astype(np.uint8))\n",
    "output_image.save(\"output.jpg\")"
   ]
  }
 ],
 "metadata": {
  "kernelspec": {
   "display_name": "Python 3",
   "language": "python",
   "name": "python3"
  },
  "language_info": {
   "codemirror_mode": {
    "name": "ipython",
    "version": 3
   },
   "file_extension": ".py",
   "mimetype": "text/x-python",
   "name": "python",
   "nbconvert_exporter": "python",
   "pygments_lexer": "ipython3",
   "version": "3.10.6"
  }
 },
 "nbformat": 4,
 "nbformat_minor": 4
}
