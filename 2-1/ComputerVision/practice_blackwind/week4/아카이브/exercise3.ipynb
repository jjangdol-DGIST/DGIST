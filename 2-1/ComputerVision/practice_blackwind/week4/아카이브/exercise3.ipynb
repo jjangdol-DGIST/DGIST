{
 "cells": [
  {
   "cell_type": "markdown",
   "metadata": {},
   "source": [
    "### 실습 문제 3. Minmax Normalization을 제작하시오.\n",
    "NumPy 라이브러리(선택) 혹은 파이썬 내장함수만을 사용해서 함수 'meanfilter'를 완성해 보세요.\n",
    "- 조건:\n",
    "    - 함수 입력값: image (type:ndarray)\n",
    "    - 함수 출력값(반환값): mean filter가 적용된 이미지의 ndarray"
   ]
  },
  {
   "cell_type": "code",
   "execution_count": 1,
   "metadata": {},
   "outputs": [],
   "source": [
    "from PIL import Image\n",
    "import numpy as np"
   ]
  },
  {
   "cell_type": "code",
   "execution_count": 2,
   "metadata": {},
   "outputs": [],
   "source": [
    "image = Image.open(\"sample_image_minmax.png\").convert('L')"
   ]
  },
  {
   "cell_type": "code",
   "execution_count": 3,
   "metadata": {},
   "outputs": [],
   "source": [
    "image_array = np.array(image)\n",
    "gray_arr = np.dot(image_array[...,:3], [0.2989, 0.5870, 0.1140])"
   ]
  },
  {
   "cell_type": "code",
   "execution_count": 4,
   "metadata": {},
   "outputs": [],
   "source": [
    "def minmax(image):\n",
    "    # 이미지 데이터 타입을 float32로 변환\n",
    "    image = image.astype(np.float32)\n",
    "\n",
    "    # 이미지의 최소값과 최대값 구하기\n",
    "    min_val, max_val = np.min(image), np.max(image)\n",
    "\n",
    "    # 최소-최대 정규화 수행\n",
    "    normalized_image = (image - min_val) / (max_val - min_val)\n",
    "\n",
    "    return normalized_image"
   ]
  },
  {
   "cell_type": "code",
   "execution_count": 5,
   "metadata": {},
   "outputs": [],
   "source": [
    "output = minmax(gray_arr)"
   ]
  },
  {
   "cell_type": "code",
   "execution_count": 6,
   "metadata": {},
   "outputs": [],
   "source": [
    "output_image = Image.fromarray(output.astype(np.uint8))\n",
    "output_image.save(\"output.jpg\")"
   ]
  }
 ],
 "metadata": {
  "kernelspec": {
   "display_name": "Python 3",
   "language": "python",
   "name": "python3"
  },
  "language_info": {
   "codemirror_mode": {
    "name": "ipython",
    "version": 3
   },
   "file_extension": ".py",
   "mimetype": "text/x-python",
   "name": "python",
   "nbconvert_exporter": "python",
   "pygments_lexer": "ipython3",
   "version": "3.10.6"
  }
 },
 "nbformat": 4,
 "nbformat_minor": 4
}
